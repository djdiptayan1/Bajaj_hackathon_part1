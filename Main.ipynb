{
 "cells": [
  {
   "cell_type": "code",
   "execution_count": 22,
   "metadata": {},
   "outputs": [],
   "source": [
    "import requests\n",
    "from bs4 import BeautifulSoup as bs\n",
    "from IPython.display import display, Image"
   ]
  },
  {
   "cell_type": "code",
   "execution_count": 23,
   "metadata": {},
   "outputs": [
    {
     "name": "stdout",
     "output_type": "stream",
     "text": [
      "200\n"
     ]
    }
   ],
   "source": [
    "url = 'https://gui.djdiptayan.in/'\n",
    "response = requests.get(url)\n",
    "print(response.status_code)\n",
    "html_content = response.content\n",
    "soup = bs(html_content, 'html.parser')"
   ]
  },
  {
   "cell_type": "code",
   "execution_count": 24,
   "metadata": {},
   "outputs": [
    {
     "name": "stdout",
     "output_type": "stream",
     "text": [
      "[]\n"
     ]
    }
   ],
   "source": [
    "# Step 1: Extract the URLs of the pages you want to visit\n",
    "page_urls = [link.get('href') for link in soup.find_all('a') if link.get('href')]\n",
    "print(page_urls)\n"
   ]
  },
  {
   "cell_type": "code",
   "execution_count": 25,
   "metadata": {},
   "outputs": [],
   "source": [
    "headers = {'User-Agent': 'Mozilla/5.0 (X11; Linux x86_64) AppleWebKit/537.36 (KHTML, like Gecko) Chrome/91.0.4464.5 Safari/537.36'}\n",
    "response = requests.get(url, headers=headers).text"
   ]
  },
  {
   "cell_type": "code",
   "execution_count": 26,
   "metadata": {},
   "outputs": [
    {
     "name": "stdout",
     "output_type": "stream",
     "text": [
      "<!DOCTYPE html>\n",
      "<html lang=\"en\">\n",
      " <head>\n",
      "  <meta charset=\"utf-8\"/>\n",
      "  <meta content=\"width=device-width, initial-scale=1.0\" name=\"viewport\"/>\n",
      "  <meta content=\"English\" name=\"language\"/>\n",
      "  <meta content=\"US;IN\" name=\"geo.region\"/>\n",
      "  <meta content=\"New York;Mumbai\" name=\"geo.placename\"/>\n",
      "  <meta content=\"#000000\" name=\"theme-color\"/>\n",
      "  <meta content=\"7 days\" name=\"revisit-after\"/>\n",
      "  <meta content=\"General\" name=\"rating\"/>\n",
      "  <meta content=\"index, follow\" name=\"robots\"/>\n",
      "  <link href=\"https://gui.djdiptayan.in/\" rel=\"canonical\"/>\n",
      "  <meta content=\"Diptayan Jash - Web Developer and Student Portfolio\" name=\"title\"/>\n",
      "  <meta content=\"Diptayan Jash - Web Developer and Student Portfolio\" property=\"title\"/>\n",
      "  <title>\n",
      "   Diptayan Jash - Web Developer and Student Portfolio\n",
      "  </title>\n",
      "  <meta content=\"Explore Diptayan Jash's portfolio and discover the work of a skilled web developer, app developer, and college student. Specializing in Java, C, C++, Python, JavaScript, TypeScript, Firebase, MongoDB, server-side development, robotics, and embedded systems.\" name=\"description\"/>\n",
      "  <meta content=\"Diptayan Jash - Web Developer and Student Portfolio\" property=\"og:title\"/>\n",
      "  <meta content=\"Explore Diptayan Jash's portfolio and discover the work of a skilled web developer and Student.\" property=\"og:description\"/>\n",
      "  <meta content=\"Diptayan Jash, Web Developer, Designer, Portfolio, Robotics\" property=\"keywords\"/>\n",
      "  <meta content=\"Diptayan Jash\" name=\"author\"/>\n",
      "  <meta content=\"en-US\" http-equiv=\"Content-Language\"/>\n",
      "  <meta content=\"./src/assets/DJ_orange.jpeg\" property=\"og:image\"/>\n",
      "  <meta content=\"https://www.instagram.com/dj_dipt/\" property=\"og:profile\"/>\n",
      "  <meta content=\"dj_dipt\" property=\"profile:username\"/>\n",
      "  <meta content=\"https://github.com/djdiptayan1\" property=\"og:profile\"/>\n",
      "  <meta content=\"djdiptayan1\" property=\"profile:username\"/>\n",
      "  <!-- FAVICON -->\n",
      "  <link alt=\"Diptayan Jash - Web Developer and Student\" href=\"/assets/DJ_orange-a055fd21.jpeg\" rel=\"icon\"/>\n",
      "  <!-- Google Fonts Preconnect -->\n",
      "  <link href=\"https://fonts.googleapis.com\" rel=\"preconnect\"/>\n",
      "  <link crossorigin=\"\" href=\"https://fonts.gstatic.com\" rel=\"preconnect\"/>\n",
      "  <!-- Google Fonts Link -->\n",
      "  <link href=\"https://fonts.googleapis.com/css2?family=Delicious+Handrawn&amp;family=Poppins:ital,wght@0,100;0,200;0,300;0,400;0,500;0,600;0,700;0,800;0,900;1,100;1,200;1,300;1,400;1,500;1,600;1,700;1,800;1,900&amp;family=Sedgwick+Ave+Display&amp;display=swap\" rel=\"stylesheet\"/>\n",
      "  <!-- Google / Search Engine Tags -->\n",
      "  <meta content=\"Diptayan | Portfolio\" itemprop=\"name\"/>\n",
      "  <meta content=\"Diptayan Jash - Web Developer and Student Portfolio\" itemprop=\"description\"/>\n",
      "  <meta content=\"\" itemprop=\"image\"/>\n",
      "  <!-- Apple Touch Icon -->\n",
      "  <link href=\"/assets/DJ_orange-a055fd21.jpeg\" rel=\"apple-touch-icon\"/>\n",
      "  <!-- Twitter Card -->\n",
      "  <meta content=\"Diptayan Jash's Twitter account\" name=\"twitter:card\"/>\n",
      "  <meta content=\"@diptayan_jash\" name=\"twitter:site\"/>\n",
      "  <!-- Twitter Card for Instagram -->\n",
      "  <!-- <meta name=\"instagram:card\" content=\"app\" />\n",
      "    <meta name=\"instagram:site\" content=\"@dj_dipt\" /> -->\n",
      "  <!-- Twitter Card for GitHub -->\n",
      "  <!-- <meta name=\"github:card\" content=\"Diptayan Jash's GitHub account\" />\n",
      "    <meta name=\"github:site\" content=\"@djdiptayan1\" />\n",
      "    <meta name=\"github:title\" content=\"GitHub - djdiptayan1\" />\n",
      "    <meta\n",
      "      name=\"github:description\"\n",
      "      content=\"Welcome to my GitHub, Here you can find all my projects.\"\n",
      "    />  -->\n",
      "  <!-- Structured Data (Schema.org) -->\n",
      "  <script type=\"application/ld+json\">\n",
      "   {\n",
      "        \"@context\": \"http://schema.org\",\n",
      "        \"@type\": \"Person\",\n",
      "        \"name\": \"Diptayan Jash\",\n",
      "        \"jobTitle\": \"Web Developer and Student\",\n",
      "        \"email\": \"mailto:djdiptayan1@gmail.com\",\n",
      "        \"url\": \"https://gui.djdiptayan.in/\",\n",
      "        \"image\": \"./src/assets/DJ_orange.jpeg\",\n",
      "        \"sameAs\": [\n",
      "          \"https://www.instagram.com/dj_dipt/\",\n",
      "          \"https://github.com/djdiptayan1\"\n",
      "        ]\n",
      "      }\n",
      "  </script>\n",
      "  <script crossorigin=\"\" src=\"/assets/index-e92598b1.js\" type=\"module\">\n",
      "  </script>\n",
      "  <link href=\"/assets/index-dcd2e4c6.css\" rel=\"stylesheet\"/>\n",
      " </head>\n",
      " <body>\n",
      "  <div id=\"root\">\n",
      "  </div>\n",
      " </body>\n",
      "</html>\n",
      "\n"
     ]
    }
   ],
   "source": [
    "soup = bs(response, 'lxml')\n",
    "print(soup.prettify())"
   ]
  },
  {
   "cell_type": "code",
   "execution_count": 27,
   "metadata": {},
   "outputs": [],
   "source": [
    "from IPython.display import Image, display\n",
    "\n",
    "images = soup.find_all('img')\n",
    "for image in images:\n",
    "    if 'src' in image.attrs:\n",
    "        display(Image(url=image['src']))\n",
    "        print(image['src'])\n",
    "        \n",
    "    else:\n",
    "        print(\"No src attribute found\")"
   ]
  },
  {
   "cell_type": "code",
   "execution_count": null,
   "metadata": {},
   "outputs": [],
   "source": []
  },
  {
   "cell_type": "code",
   "execution_count": 28,
   "metadata": {},
   "outputs": [],
   "source": [
    "for url1 in page_urls:\n",
    "    if not url1.startswith('http'):\n",
    "        print(f\"Invalid URL: {url1}. Skipping...\")\n",
    "        continue\n",
    "\n",
    "    response = requests.get(url1)\n",
    "    if response.status_code == 200:\n",
    "        page_soup = bs(response.text, 'html.parser')\n",
    "\n",
    "        images = page_soup.find_all('img')\n",
    "        for image in images:\n",
    "            if 'src' in image.attrs:\n",
    "                image_url = image['src']\n",
    "                if image_url.startswith('http'):\n",
    "                    display(Image(url=image_url))\n",
    "                else:\n",
    "                    print(f\"Invalid image URL: {image_url}. Skipping...\")\n",
    "            else:\n",
    "                print(\"No src attribute found\")\n",
    "    else:\n",
    "        print(f\"Failed to fetch URL: {url1}. Status code: {response.status_code}\")\n"
   ]
  }
 ],
 "metadata": {
  "kernelspec": {
   "display_name": "Python 3",
   "language": "python",
   "name": "python3"
  },
  "language_info": {
   "codemirror_mode": {
    "name": "ipython",
    "version": 3
   },
   "file_extension": ".py",
   "mimetype": "text/x-python",
   "name": "python",
   "nbconvert_exporter": "python",
   "pygments_lexer": "ipython3",
   "version": "3.11.4"
  }
 },
 "nbformat": 4,
 "nbformat_minor": 2
}
